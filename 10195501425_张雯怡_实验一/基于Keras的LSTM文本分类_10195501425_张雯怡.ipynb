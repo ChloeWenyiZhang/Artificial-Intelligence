{
 "cells": [
  {
   "cell_type": "code",
   "execution_count": 1,
   "id": "a222a2e2",
   "metadata": {},
   "outputs": [],
   "source": [
    "import pandas as pd\n",
    "import re\n",
    "import json\n",
    "import numpy as np\n",
    "import nltk\n",
    "import jieba as jb\n",
    "from tensorflow.keras.preprocessing.text import Tokenizer\n",
    "from tensorflow.keras.preprocessing.sequence import pad_sequences\n",
    "from tensorflow.keras.models import Sequential\n",
    "from tensorflow.keras.layers import Dense, Embedding, LSTM, SpatialDropout1D\n",
    "from sklearn.model_selection import train_test_split\n",
    "from sklearn.metrics import accuracy_score\n",
    "from sklearn.metrics import classification_report\n",
    "from tensorflow.keras.callbacks import EarlyStopping"
   ]
  },
  {
   "cell_type": "code",
   "execution_count": 2,
   "id": "f328382b",
   "metadata": {},
   "outputs": [
    {
     "name": "stdout",
     "output_type": "stream",
     "text": [
      "{'label': 0, 'raw': \"I only watched the Wanda Sykes portion of this show. I think it was interesting to watch because it was before she came out as a lesbian. She was married to a man at the time. She actually made some jokes that raised my eyebrows since she is now a lesbian. I didn't like this because it seemed hypocritical but I think Wanda Sykes is really funny. She is one of the few comedians who can make me really LOL (Laugh Out Loud). If you want to see what her comedy was like before she came out a lesbian or you are a Wanda Sykes fan, watch it. I am a huge fan of hers. I would like to see her in a live how. I am glad she is true to herself now and came out as a lesbian. I hope Wanda keeps on making me and others laugh for a long time to come.\"}\n"
     ]
    }
   ],
   "source": [
    "label_list = [0,1,2,3,4,5,6,7,8,9]\n",
    "lst_dics = []\n",
    "\n",
    "with open('./train_data.txt','r') as f:\n",
    "    for line in f:\n",
    "        text = line.strip()\n",
    "        dd = json.loads(text)\n",
    "        lst_dics.append(dd)    \n",
    "\n",
    "print(lst_dics[0])"
   ]
  },
  {
   "cell_type": "code",
   "execution_count": 3,
   "id": "a34c58c0",
   "metadata": {},
   "outputs": [
    {
     "data": {
      "text/html": [
       "<div>\n",
       "<style scoped>\n",
       "    .dataframe tbody tr th:only-of-type {\n",
       "        vertical-align: middle;\n",
       "    }\n",
       "\n",
       "    .dataframe tbody tr th {\n",
       "        vertical-align: top;\n",
       "    }\n",
       "\n",
       "    .dataframe thead th {\n",
       "        text-align: right;\n",
       "    }\n",
       "</style>\n",
       "<table border=\"1\" class=\"dataframe\">\n",
       "  <thead>\n",
       "    <tr style=\"text-align: right;\">\n",
       "      <th></th>\n",
       "      <th>label</th>\n",
       "      <th>raw</th>\n",
       "    </tr>\n",
       "  </thead>\n",
       "  <tbody>\n",
       "    <tr>\n",
       "      <th>4331</th>\n",
       "      <td>5</td>\n",
       "      <td>Although the book jacket suggested the storyli...</td>\n",
       "    </tr>\n",
       "    <tr>\n",
       "      <th>225</th>\n",
       "      <td>0</td>\n",
       "      <td>Journeyman looks to be another series with pro...</td>\n",
       "    </tr>\n",
       "    <tr>\n",
       "      <th>7929</th>\n",
       "      <td>9</td>\n",
       "      <td>Obviously, from all the other reviews posted h...</td>\n",
       "    </tr>\n",
       "    <tr>\n",
       "      <th>7203</th>\n",
       "      <td>9</td>\n",
       "      <td>This is not another lousy Celtic New Age album...</td>\n",
       "    </tr>\n",
       "    <tr>\n",
       "      <th>2469</th>\n",
       "      <td>3</td>\n",
       "      <td>My sister had a Diaper Genie and it always sme...</td>\n",
       "    </tr>\n",
       "  </tbody>\n",
       "</table>\n",
       "</div>"
      ],
      "text/plain": [
       "      label                                                raw\n",
       "4331      5  Although the book jacket suggested the storyli...\n",
       "225       0  Journeyman looks to be another series with pro...\n",
       "7929      9  Obviously, from all the other reviews posted h...\n",
       "7203      9  This is not another lousy Celtic New Age album...\n",
       "2469      3  My sister had a Diaper Genie and it always sme..."
      ]
     },
     "execution_count": 3,
     "metadata": {},
     "output_type": "execute_result"
    }
   ],
   "source": [
    "# 用dataframe将字符串列表转化为表格\n",
    "df = pd.DataFrame(lst_dics)\n",
    "\n",
    "df.sample(5)"
   ]
  },
  {
   "cell_type": "code",
   "execution_count": 4,
   "id": "f258e6c3",
   "metadata": {},
   "outputs": [
    {
     "data": {
      "text/html": [
       "<div>\n",
       "<style scoped>\n",
       "    .dataframe tbody tr th:only-of-type {\n",
       "        vertical-align: middle;\n",
       "    }\n",
       "\n",
       "    .dataframe tbody tr th {\n",
       "        vertical-align: top;\n",
       "    }\n",
       "\n",
       "    .dataframe thead th {\n",
       "        text-align: right;\n",
       "    }\n",
       "</style>\n",
       "<table border=\"1\" class=\"dataframe\">\n",
       "  <thead>\n",
       "    <tr style=\"text-align: right;\">\n",
       "      <th></th>\n",
       "      <th>label</th>\n",
       "      <th>count</th>\n",
       "    </tr>\n",
       "  </thead>\n",
       "  <tbody>\n",
       "    <tr>\n",
       "      <th>0</th>\n",
       "      <td>0</td>\n",
       "      <td>800</td>\n",
       "    </tr>\n",
       "    <tr>\n",
       "      <th>1</th>\n",
       "      <td>1</td>\n",
       "      <td>800</td>\n",
       "    </tr>\n",
       "    <tr>\n",
       "      <th>2</th>\n",
       "      <td>2</td>\n",
       "      <td>800</td>\n",
       "    </tr>\n",
       "    <tr>\n",
       "      <th>3</th>\n",
       "      <td>3</td>\n",
       "      <td>800</td>\n",
       "    </tr>\n",
       "    <tr>\n",
       "      <th>4</th>\n",
       "      <td>4</td>\n",
       "      <td>800</td>\n",
       "    </tr>\n",
       "    <tr>\n",
       "      <th>5</th>\n",
       "      <td>5</td>\n",
       "      <td>800</td>\n",
       "    </tr>\n",
       "    <tr>\n",
       "      <th>6</th>\n",
       "      <td>6</td>\n",
       "      <td>800</td>\n",
       "    </tr>\n",
       "    <tr>\n",
       "      <th>7</th>\n",
       "      <td>7</td>\n",
       "      <td>800</td>\n",
       "    </tr>\n",
       "    <tr>\n",
       "      <th>8</th>\n",
       "      <td>8</td>\n",
       "      <td>800</td>\n",
       "    </tr>\n",
       "    <tr>\n",
       "      <th>9</th>\n",
       "      <td>9</td>\n",
       "      <td>800</td>\n",
       "    </tr>\n",
       "  </tbody>\n",
       "</table>\n",
       "</div>"
      ],
      "text/plain": [
       "   label  count\n",
       "0      0    800\n",
       "1      1    800\n",
       "2      2    800\n",
       "3      3    800\n",
       "4      4    800\n",
       "5      5    800\n",
       "6      6    800\n",
       "7      7    800\n",
       "8      8    800\n",
       "9      9    800"
      ]
     },
     "execution_count": 4,
     "metadata": {},
     "output_type": "execute_result"
    }
   ],
   "source": [
    "# 查看是否有空值，并统计各类别下的文本数量\n",
    "df['label'].isnull().sum()\n",
    "df['raw'].isnull().sum()\n",
    "df[df.isnull().values == True]\n",
    "df = df[pd.notnull(df['raw'])]\n",
    "\n",
    "d = {'label': df['label'].value_counts().index, 'count': df['label'].value_counts() }\n",
    "_label = pd.DataFrame(data=d).reset_index(drop=True)\n",
    "_label"
   ]
  },
  {
   "cell_type": "code",
   "execution_count": 5,
   "id": "f640afe5",
   "metadata": {},
   "outputs": [
    {
     "data": {
      "text/html": [
       "<div>\n",
       "<style scoped>\n",
       "    .dataframe tbody tr th:only-of-type {\n",
       "        vertical-align: middle;\n",
       "    }\n",
       "\n",
       "    .dataframe tbody tr th {\n",
       "        vertical-align: top;\n",
       "    }\n",
       "\n",
       "    .dataframe thead th {\n",
       "        text-align: right;\n",
       "    }\n",
       "</style>\n",
       "<table border=\"1\" class=\"dataframe\">\n",
       "  <thead>\n",
       "    <tr style=\"text-align: right;\">\n",
       "      <th></th>\n",
       "      <th>label</th>\n",
       "      <th>raw</th>\n",
       "      <th>clean_raw</th>\n",
       "    </tr>\n",
       "  </thead>\n",
       "  <tbody>\n",
       "    <tr>\n",
       "      <th>3277</th>\n",
       "      <td>4</td>\n",
       "      <td>This is another product I've used for years to...</td>\n",
       "      <td>This is another product Ive used for years to ...</td>\n",
       "    </tr>\n",
       "    <tr>\n",
       "      <th>2872</th>\n",
       "      <td>3</td>\n",
       "      <td>I considered this when it was full price, 50 b...</td>\n",
       "      <td>I considered this when it was full price 50 bu...</td>\n",
       "    </tr>\n",
       "    <tr>\n",
       "      <th>5865</th>\n",
       "      <td>7</td>\n",
       "      <td>The Plantronics 510 is comfortable to wear for...</td>\n",
       "      <td>The Plantronics 510 is comfortable to wear for...</td>\n",
       "    </tr>\n",
       "    <tr>\n",
       "      <th>7019</th>\n",
       "      <td>8</td>\n",
       "      <td>These T shirts are thin (which I personally li...</td>\n",
       "      <td>These T shirts are thin which I personally lik...</td>\n",
       "    </tr>\n",
       "    <tr>\n",
       "      <th>4969</th>\n",
       "      <td>6</td>\n",
       "      <td>&amp;quot;Peter Pan&amp;quot;, the 2nd Disney Classic ...</td>\n",
       "      <td>quotPeter Panquot the 2nd Disney Classic that ...</td>\n",
       "    </tr>\n",
       "  </tbody>\n",
       "</table>\n",
       "</div>"
      ],
      "text/plain": [
       "      label                                                raw  \\\n",
       "3277      4  This is another product I've used for years to...   \n",
       "2872      3  I considered this when it was full price, 50 b...   \n",
       "5865      7  The Plantronics 510 is comfortable to wear for...   \n",
       "7019      8  These T shirts are thin (which I personally li...   \n",
       "4969      6  &quot;Peter Pan&quot;, the 2nd Disney Classic ...   \n",
       "\n",
       "                                              clean_raw  \n",
       "3277  This is another product Ive used for years to ...  \n",
       "2872  I considered this when it was full price 50 bu...  \n",
       "5865  The Plantronics 510 is comfortable to wear for...  \n",
       "7019  These T shirts are thin which I personally lik...  \n",
       "4969  quotPeter Panquot the 2nd Disney Classic that ...  "
      ]
     },
     "execution_count": 5,
     "metadata": {},
     "output_type": "execute_result"
    }
   ],
   "source": [
    "# 加载停用词\n",
    "stopwords = nltk.corpus.stopwords.words(\"English\")\n",
    "\n",
    "# 删除非字母、数字、空格以外的所有符号\n",
    "def remove_punctuation(line):\n",
    "    line = str(line)\n",
    "    if line.strip() == '':\n",
    "        return ''\n",
    "    rule = re.compile(\"[^0-9a-zA-Z\\s-]\")\n",
    "    line = rule.sub('', line).strip()\n",
    "    return line\n",
    "\n",
    "df['clean_raw'] = df['raw'].apply(remove_punctuation)\n",
    "df.sample(5)"
   ]
  },
  {
   "cell_type": "code",
   "execution_count": 6,
   "id": "b924cb76",
   "metadata": {},
   "outputs": [
    {
     "name": "stderr",
     "output_type": "stream",
     "text": [
      "Building prefix dict from the default dictionary ...\n",
      "Loading model from cache C:\\Users\\86137\\AppData\\Local\\Temp\\jieba.cache\n",
      "Loading model cost 0.927 seconds.\n",
      "Prefix dict has been built successfully.\n"
     ]
    },
    {
     "data": {
      "text/html": [
       "<div>\n",
       "<style scoped>\n",
       "    .dataframe tbody tr th:only-of-type {\n",
       "        vertical-align: middle;\n",
       "    }\n",
       "\n",
       "    .dataframe tbody tr th {\n",
       "        vertical-align: top;\n",
       "    }\n",
       "\n",
       "    .dataframe thead th {\n",
       "        text-align: right;\n",
       "    }\n",
       "</style>\n",
       "<table border=\"1\" class=\"dataframe\">\n",
       "  <thead>\n",
       "    <tr style=\"text-align: right;\">\n",
       "      <th></th>\n",
       "      <th>label</th>\n",
       "      <th>raw</th>\n",
       "      <th>clean_raw</th>\n",
       "      <th>cut_raw</th>\n",
       "    </tr>\n",
       "  </thead>\n",
       "  <tbody>\n",
       "    <tr>\n",
       "      <th>0</th>\n",
       "      <td>0</td>\n",
       "      <td>I only watched the Wanda Sykes portion of this...</td>\n",
       "      <td>I only watched the Wanda Sykes portion of this...</td>\n",
       "      <td>I     watched     Wanda   Sykes   portion     ...</td>\n",
       "    </tr>\n",
       "    <tr>\n",
       "      <th>1</th>\n",
       "      <td>0</td>\n",
       "      <td>This is a cute series, and I did watch two epi...</td>\n",
       "      <td>This is a cute series and I did watch two epis...</td>\n",
       "      <td>This       cute   series     I     watch   two...</td>\n",
       "    </tr>\n",
       "    <tr>\n",
       "      <th>2</th>\n",
       "      <td>0</td>\n",
       "      <td>This series revolves around 4 friends who run ...</td>\n",
       "      <td>This series revolves around 4 friends who run ...</td>\n",
       "      <td>This   series   revolves   around   4   friend...</td>\n",
       "    </tr>\n",
       "    <tr>\n",
       "      <th>3</th>\n",
       "      <td>0</td>\n",
       "      <td>I was pleasantly surprised with this \"out of t...</td>\n",
       "      <td>I was pleasantly surprised with this out of th...</td>\n",
       "      <td>I     pleasantly   surprised             box  ...</td>\n",
       "    </tr>\n",
       "    <tr>\n",
       "      <th>4</th>\n",
       "      <td>0</td>\n",
       "      <td>I heard about It's Always Sunny from a Kevin S...</td>\n",
       "      <td>I heard about Its Always Sunny from a Kevin Sm...</td>\n",
       "      <td>I   heard     Its   Always   Sunny       Kevin...</td>\n",
       "    </tr>\n",
       "  </tbody>\n",
       "</table>\n",
       "</div>"
      ],
      "text/plain": [
       "   label                                                raw  \\\n",
       "0      0  I only watched the Wanda Sykes portion of this...   \n",
       "1      0  This is a cute series, and I did watch two epi...   \n",
       "2      0  This series revolves around 4 friends who run ...   \n",
       "3      0  I was pleasantly surprised with this \"out of t...   \n",
       "4      0  I heard about It's Always Sunny from a Kevin S...   \n",
       "\n",
       "                                           clean_raw  \\\n",
       "0  I only watched the Wanda Sykes portion of this...   \n",
       "1  This is a cute series and I did watch two epis...   \n",
       "2  This series revolves around 4 friends who run ...   \n",
       "3  I was pleasantly surprised with this out of th...   \n",
       "4  I heard about Its Always Sunny from a Kevin Sm...   \n",
       "\n",
       "                                             cut_raw  \n",
       "0  I     watched     Wanda   Sykes   portion     ...  \n",
       "1  This       cute   series     I     watch   two...  \n",
       "2  This   series   revolves   around   4   friend...  \n",
       "3  I     pleasantly   surprised             box  ...  \n",
       "4  I   heard     Its   Always   Sunny       Kevin...  "
      ]
     },
     "execution_count": 6,
     "metadata": {},
     "output_type": "execute_result"
    }
   ],
   "source": [
    "# 分词，并过滤停用词\n",
    "df['cut_raw'] = df['clean_raw'].apply(lambda x: \" \".join([w for w in list(jb.cut(x)) if w not in stopwords]))\n",
    "df.head()"
   ]
  },
  {
   "cell_type": "code",
   "execution_count": 7,
   "id": "d6e55c6c",
   "metadata": {},
   "outputs": [
    {
     "data": {
      "text/plain": [
       "'词库共有 41023 个单词.'"
      ]
     },
     "execution_count": 7,
     "metadata": {},
     "output_type": "execute_result"
    }
   ],
   "source": [
    "# LSTM建模\n",
    "# 设置最频繁使用的50000个词(在texts_to_matrix是会取前MAX_NB_WORDS列)\n",
    "MAX_NB_WORDS = 50000\n",
    "# 每条cut_review最大的长度\n",
    "MAX_SEQUENCE_LENGTH = 250\n",
    "# 设置Embeddingceng层的维度\n",
    "EMBEDDING_DIM = 200\n",
    "\n",
    "tokenizer = Tokenizer(num_words=MAX_NB_WORDS, filters='!\"#$%&()*+,-./:;<=>?@[\\]^_`{|}~', lower=True)\n",
    "tokenizer.fit_on_texts(df['cut_raw'].values)\n",
    "word_index = tokenizer.word_index\n",
    "'词库共有 %s 个单词.' % len(word_index)"
   ]
  },
  {
   "cell_type": "code",
   "execution_count": 8,
   "id": "70d4c508",
   "metadata": {},
   "outputs": [
    {
     "name": "stdout",
     "output_type": "stream",
     "text": [
      "(8000, 250)\n",
      "(8000, 10)\n"
     ]
    }
   ],
   "source": [
    "X = tokenizer.texts_to_sequences(df['cut_raw'].values)\n",
    "# 填充X,让X的各个列的长度统一\n",
    "X = pad_sequences(X, maxlen=MAX_SEQUENCE_LENGTH)\n",
    "\n",
    "# 多类标签的onehot展开\n",
    "Y = pd.get_dummies(df['label']).values\n",
    "print(X.shape)\n",
    "print(Y.shape)"
   ]
  },
  {
   "cell_type": "code",
   "execution_count": 9,
   "id": "fd705f88",
   "metadata": {},
   "outputs": [
    {
     "name": "stdout",
     "output_type": "stream",
     "text": [
      "(7600, 250) (7600, 10)\n",
      "(400, 250) (400, 10)\n"
     ]
    }
   ],
   "source": [
    "# 拆分训练集和测试集\n",
    "X_train, X_test, Y_train, Y_test = train_test_split(X, Y, test_size=0.05, random_state=42)\n",
    "print(X_train.shape, Y_train.shape)\n",
    "print(X_test.shape, Y_test.shape)"
   ]
  },
  {
   "cell_type": "code",
   "execution_count": 10,
   "id": "513f525c",
   "metadata": {},
   "outputs": [
    {
     "name": "stdout",
     "output_type": "stream",
     "text": [
      "Model: \"sequential\"\n",
      "_________________________________________________________________\n",
      " Layer (type)                Output Shape              Param #   \n",
      "=================================================================\n",
      " embedding (Embedding)       (None, 250, 200)          10000000  \n",
      "                                                                 \n",
      " spatial_dropout1d (SpatialD  (None, 250, 200)         0         \n",
      " ropout1D)                                                       \n",
      "                                                                 \n",
      " lstm (LSTM)                 (None, 200)               320800    \n",
      "                                                                 \n",
      " dense (Dense)               (None, 10)                2010      \n",
      "                                                                 \n",
      "=================================================================\n",
      "Total params: 10,322,810\n",
      "Trainable params: 10,322,810\n",
      "Non-trainable params: 0\n",
      "_________________________________________________________________\n"
     ]
    }
   ],
   "source": [
    "# 定义模型\n",
    "model = Sequential()\n",
    "model.add(Embedding(MAX_NB_WORDS, EMBEDDING_DIM, input_length=X.shape[1]))\n",
    "model.add(SpatialDropout1D(0.2))\n",
    "model.add(LSTM(200, dropout=0.2, recurrent_dropout=0.2))\n",
    "model.add(Dense(len(label_list), activation='softmax'))\n",
    "model.compile(loss='categorical_crossentropy', optimizer='adam', metrics=['accuracy'])\n",
    "model.summary()"
   ]
  },
  {
   "cell_type": "code",
   "execution_count": 11,
   "id": "09cab72a",
   "metadata": {},
   "outputs": [
    {
     "name": "stdout",
     "output_type": "stream",
     "text": [
      "Epoch 1/10\n",
      "54/54 [==============================] - 179s 3s/step - loss: 2.0949 - accuracy: 0.2629 - val_loss: 1.6228 - val_accuracy: 0.3829\n",
      "Epoch 2/10\n",
      "54/54 [==============================] - 239s 4s/step - loss: 1.1492 - accuracy: 0.5854 - val_loss: 0.6858 - val_accuracy: 0.7697\n",
      "Epoch 3/10\n",
      "54/54 [==============================] - 262s 5s/step - loss: 0.4236 - accuracy: 0.8635 - val_loss: 0.5092 - val_accuracy: 0.8145\n",
      "Epoch 4/10\n",
      "54/54 [==============================] - 269s 5s/step - loss: 0.2175 - accuracy: 0.9317 - val_loss: 0.3703 - val_accuracy: 0.8974\n",
      "Epoch 5/10\n",
      "54/54 [==============================] - 275s 5s/step - loss: 0.1447 - accuracy: 0.9624 - val_loss: 0.2860 - val_accuracy: 0.9184\n",
      "Epoch 6/10\n",
      "54/54 [==============================] - 273s 5s/step - loss: 0.1590 - accuracy: 0.9617 - val_loss: 0.2968 - val_accuracy: 0.9145\n",
      "Epoch 7/10\n",
      "54/54 [==============================] - 281s 5s/step - loss: 0.2152 - accuracy: 0.9516 - val_loss: 0.3442 - val_accuracy: 0.9026\n",
      "Epoch 8/10\n",
      "54/54 [==============================] - 278s 5s/step - loss: 0.0978 - accuracy: 0.9788 - val_loss: 0.3170 - val_accuracy: 0.9184\n",
      "13/13 [==============================] - 3s 247ms/step - loss: 0.3413 - accuracy: 0.8925\n"
     ]
    },
    {
     "data": {
      "text/plain": [
       "'Test set\\n  Loss: 0.341\\n  Accuracy: 0.892'"
      ]
     },
     "execution_count": 11,
     "metadata": {},
     "output_type": "execute_result"
    }
   ],
   "source": [
    "# 模型训练\n",
    "epochs = 10\n",
    "batch_size = 128\n",
    "\n",
    "history = model.fit(X_train, Y_train, epochs=epochs, batch_size=batch_size, validation_split=0.1,\n",
    "                    callbacks=[EarlyStopping(monitor='val_loss', patience=3, min_delta=0.0001)])\n",
    "\n",
    "accr = model.evaluate(X_test, Y_test)\n",
    "'Test set\\n  Loss: {:0.3f}\\n  Accuracy: {:0.3f}'.format(accr[0], accr[1])\n"
   ]
  },
  {
   "cell_type": "code",
   "execution_count": 12,
   "id": "fa7e59ab",
   "metadata": {},
   "outputs": [
    {
     "data": {
      "image/png": "[encoded data removed]",
      "text/plain": [
       "<Figure size 432x288 with 1 Axes>"
      ]
     },
     "metadata": {
      "needs_background": "light"
     },
     "output_type": "display_data"
    }
   ],
   "source": [
    "import matplotlib.pyplot as plt\n",
    "\n",
    "# 绘制损失函数趋势图\n",
    "plt.title('Loss')\n",
    "plt.plot(history.history['loss'], label='train')\n",
    "plt.plot(history.history['val_loss'], label='test')\n",
    "plt.legend()\n",
    "plt.show()"
   ]
  },
  {
   "cell_type": "code",
   "execution_count": 13,
   "id": "94babbda",
   "metadata": {},
   "outputs": [
    {
     "data": {
      "image/png": "[encoded data removed]",
      "text/plain": [
       "<Figure size 432x288 with 1 Axes>"
      ]
     },
     "metadata": {
      "needs_background": "light"
     },
     "output_type": "display_data"
    }
   ],
   "source": [
    "# 绘制精确率趋势图\n",
    "plt.title('Accuracy')\n",
    "plt.plot(history.history['accuracy'], label='train')\n",
    "plt.plot(history.history['val_accuracy'], label='test')\n",
    "plt.legend()\n",
    "plt.show();"
   ]
  },
  {
   "cell_type": "code",
   "execution_count": 14,
   "id": "7a0bc723",
   "metadata": {},
   "outputs": [
    {
     "name": "stdout",
     "output_type": "stream",
     "text": [
      "              precision    recall  f1-score   support\n",
      "\n",
      "     label 0       0.97      0.76      0.85        42\n",
      "     label 1       1.00      0.87      0.93        47\n",
      "     label 2       0.93      0.87      0.90        45\n",
      "     label 3       0.89      0.95      0.92        41\n",
      "     label 4       0.89      0.94      0.92        35\n",
      "     label 5       0.89      0.95      0.92        42\n",
      "     label 6       0.69      0.85      0.76        34\n",
      "     label 7       0.89      0.91      0.90        35\n",
      "     label 8       0.88      0.92      0.90        39\n",
      "     label 9       0.92      0.90      0.91        40\n",
      "\n",
      "    accuracy                           0.89       400\n",
      "   macro avg       0.89      0.89      0.89       400\n",
      "weighted avg       0.90      0.89      0.89       400\n",
      "\n"
     ]
    }
   ],
   "source": [
    "# LSTM模型的评估\n",
    "y_pred = model.predict(X_test)\n",
    "y_pred = y_pred.argmax(axis=1)\n",
    "Y_test = Y_test.argmax(axis=1)\n",
    "\n",
    "# 查看相应精度\n",
    "'accuracy %s' % accuracy_score(y_pred, Y_test)\n",
    "target_names = ['label 0','label 1','label 2','label 3','label 4','label 5',\n",
    "                'label 6','label 7','label 8','label 9']\n",
    "print(classification_report(Y_test, y_pred, target_names=target_names))"
   ]
  },
  {
   "cell_type": "code",
   "execution_count": 15,
   "id": "ef9ab79a",
   "metadata": {},
   "outputs": [
    {
     "data": {
      "text/plain": [
       "6"
      ]
     },
     "execution_count": 15,
     "metadata": {},
     "output_type": "execute_result"
    }
   ],
   "source": [
    "# 预测函数\n",
    "def predict(text):\n",
    "    txt = remove_punctuation(text)\n",
    "    txt = [\" \".join([w for w in list(jb.cut(txt.lower())) if w not in stopwords])]\n",
    "    seq = tokenizer.texts_to_sequences(txt)\n",
    "    padded = pad_sequences(seq, maxlen=MAX_SEQUENCE_LENGTH)\n",
    "    pred = model.predict(padded)\n",
    "    cat_id = pred.argmax(axis=1)[0]\n",
    "    return cat_id\n",
    "\n",
    "predict(\"Considering this was shot in 1972 the video quality is excellent (4:3). Nice sharp (close-up) images with longer shots a little muddled as to be expected with only a few spotlights running during the show. Audio is in its original stereo and sounds OK to pretty good. The performance is stellar but a little short (64 Minutes). It's got a really cool trippy film section about half way through. Far-out. If you like the music of Traffic - get it while you can.\")"
   ]
  },
  {
   "cell_type": "code",
   "execution_count": 16,
   "id": "0629a47b",
   "metadata": {},
   "outputs": [
    {
     "data": {
      "text/html": [
       "<div>\n",
       "<style scoped>\n",
       "    .dataframe tbody tr th:only-of-type {\n",
       "        vertical-align: middle;\n",
       "    }\n",
       "\n",
       "    .dataframe tbody tr th {\n",
       "        vertical-align: top;\n",
       "    }\n",
       "\n",
       "    .dataframe thead th {\n",
       "        text-align: right;\n",
       "    }\n",
       "</style>\n",
       "<table border=\"1\" class=\"dataframe\">\n",
       "  <thead>\n",
       "    <tr style=\"text-align: right;\">\n",
       "      <th></th>\n",
       "      <th>id</th>\n",
       "      <th>text</th>\n",
       "    </tr>\n",
       "  </thead>\n",
       "  <tbody>\n",
       "    <tr>\n",
       "      <th>0</th>\n",
       "      <td>0</td>\n",
       "      <td>Considering this was shot in 1972 the video qu...</td>\n",
       "    </tr>\n",
       "    <tr>\n",
       "      <th>1</th>\n",
       "      <td>1</td>\n",
       "      <td>ok, I know its just random, but it seems like ...</td>\n",
       "    </tr>\n",
       "    <tr>\n",
       "      <th>2</th>\n",
       "      <td>2</td>\n",
       "      <td>Have used this for 5 months and have seen a di...</td>\n",
       "    </tr>\n",
       "    <tr>\n",
       "      <th>3</th>\n",
       "      <td>3</td>\n",
       "      <td>This app is good but I uninstallled because th...</td>\n",
       "    </tr>\n",
       "    <tr>\n",
       "      <th>4</th>\n",
       "      <td>4</td>\n",
       "      <td>Yes, I believe they got it right this time, to...</td>\n",
       "    </tr>\n",
       "  </tbody>\n",
       "</table>\n",
       "</div>"
      ],
      "text/plain": [
       "   id                                               text\n",
       "0   0  Considering this was shot in 1972 the video qu...\n",
       "1   1  ok, I know its just random, but it seems like ...\n",
       "2   2  Have used this for 5 months and have seen a di...\n",
       "3   3  This app is good but I uninstallled because th...\n",
       "4   4  Yes, I believe they got it right this time, to..."
      ]
     },
     "execution_count": 16,
     "metadata": {},
     "output_type": "execute_result"
    }
   ],
   "source": [
    "id_list, text_list2 = [], []\n",
    "with open('./test.txt', 'r') as test_f:\n",
    "    lines = test_f.readlines()\n",
    "    for line in lines:\n",
    "        if line == 'id, text\\n' or line == '':\n",
    "            continue\n",
    "        sep_index = line.find(',')\n",
    "        id_list.append(int(line[0: sep_index]))\n",
    "        text_list2.append(line[sep_index + 1:].strip())\n",
    "test_data_df = pd.DataFrame({'id': id_list, 'text': text_list2})\n",
    "test_data_df.sort_index()\n",
    "test_data_df.head()"
   ]
  },
  {
   "cell_type": "code",
   "execution_count": 17,
   "id": "0782e0da",
   "metadata": {},
   "outputs": [
    {
     "data": {
      "text/html": [
       "<div>\n",
       "<style scoped>\n",
       "    .dataframe tbody tr th:only-of-type {\n",
       "        vertical-align: middle;\n",
       "    }\n",
       "\n",
       "    .dataframe tbody tr th {\n",
       "        vertical-align: top;\n",
       "    }\n",
       "\n",
       "    .dataframe thead th {\n",
       "        text-align: right;\n",
       "    }\n",
       "</style>\n",
       "<table border=\"1\" class=\"dataframe\">\n",
       "  <thead>\n",
       "    <tr style=\"text-align: right;\">\n",
       "      <th></th>\n",
       "      <th>id</th>\n",
       "      <th>text</th>\n",
       "      <th>pred</th>\n",
       "    </tr>\n",
       "  </thead>\n",
       "  <tbody>\n",
       "    <tr>\n",
       "      <th>0</th>\n",
       "      <td>0</td>\n",
       "      <td>Considering this was shot in 1972 the video qu...</td>\n",
       "      <td>6</td>\n",
       "    </tr>\n",
       "    <tr>\n",
       "      <th>1</th>\n",
       "      <td>1</td>\n",
       "      <td>ok, I know its just random, but it seems like ...</td>\n",
       "      <td>1</td>\n",
       "    </tr>\n",
       "    <tr>\n",
       "      <th>2</th>\n",
       "      <td>2</td>\n",
       "      <td>Have used this for 5 months and have seen a di...</td>\n",
       "      <td>4</td>\n",
       "    </tr>\n",
       "    <tr>\n",
       "      <th>3</th>\n",
       "      <td>3</td>\n",
       "      <td>This app is good but I uninstallled because th...</td>\n",
       "      <td>1</td>\n",
       "    </tr>\n",
       "    <tr>\n",
       "      <th>4</th>\n",
       "      <td>4</td>\n",
       "      <td>Yes, I believe they got it right this time, to...</td>\n",
       "      <td>6</td>\n",
       "    </tr>\n",
       "    <tr>\n",
       "      <th>5</th>\n",
       "      <td>5</td>\n",
       "      <td>The end that plugs into the device, it not at ...</td>\n",
       "      <td>7</td>\n",
       "    </tr>\n",
       "    <tr>\n",
       "      <th>6</th>\n",
       "      <td>6</td>\n",
       "      <td>I heard the book was better but I found the do...</td>\n",
       "      <td>0</td>\n",
       "    </tr>\n",
       "    <tr>\n",
       "      <th>7</th>\n",
       "      <td>7</td>\n",
       "      <td>Years ago, when wrinkle development bothered m...</td>\n",
       "      <td>4</td>\n",
       "    </tr>\n",
       "    <tr>\n",
       "      <th>8</th>\n",
       "      <td>8</td>\n",
       "      <td>The title says it all.  One of the very last M...</td>\n",
       "      <td>9</td>\n",
       "    </tr>\n",
       "    <tr>\n",
       "      <th>9</th>\n",
       "      <td>9</td>\n",
       "      <td>Pros: The product looks very sleek, and is ver...</td>\n",
       "      <td>7</td>\n",
       "    </tr>\n",
       "  </tbody>\n",
       "</table>\n",
       "</div>"
      ],
      "text/plain": [
       "   id                                               text  pred\n",
       "0   0  Considering this was shot in 1972 the video qu...     6\n",
       "1   1  ok, I know its just random, but it seems like ...     1\n",
       "2   2  Have used this for 5 months and have seen a di...     4\n",
       "3   3  This app is good but I uninstallled because th...     1\n",
       "4   4  Yes, I believe they got it right this time, to...     6\n",
       "5   5  The end that plugs into the device, it not at ...     7\n",
       "6   6  I heard the book was better but I found the do...     0\n",
       "7   7  Years ago, when wrinkle development bothered m...     4\n",
       "8   8  The title says it all.  One of the very last M...     9\n",
       "9   9  Pros: The product looks very sleek, and is ver...     7"
      ]
     },
     "execution_count": 17,
     "metadata": {},
     "output_type": "execute_result"
    }
   ],
   "source": [
    "pred_list = []\n",
    "for i in id_list:\n",
    "    pred_list.append(predict(test_data_df.iloc[i,1]))\n",
    "    \n",
    "test_data_df['pred'] = pred_list\n",
    "test_data_df.head(10)"
   ]
  },
  {
   "cell_type": "code",
   "execution_count": 18,
   "id": "5766532b",
   "metadata": {},
   "outputs": [
    {
     "data": {
      "text/html": [
       "<div>\n",
       "<style scoped>\n",
       "    .dataframe tbody tr th:only-of-type {\n",
       "        vertical-align: middle;\n",
       "    }\n",
       "\n",
       "    .dataframe tbody tr th {\n",
       "        vertical-align: top;\n",
       "    }\n",
       "\n",
       "    .dataframe thead th {\n",
       "        text-align: right;\n",
       "    }\n",
       "</style>\n",
       "<table border=\"1\" class=\"dataframe\">\n",
       "  <thead>\n",
       "    <tr style=\"text-align: right;\">\n",
       "      <th></th>\n",
       "      <th>id</th>\n",
       "      <th>pred</th>\n",
       "    </tr>\n",
       "  </thead>\n",
       "  <tbody>\n",
       "    <tr>\n",
       "      <th>0</th>\n",
       "      <td>0</td>\n",
       "      <td>6</td>\n",
       "    </tr>\n",
       "    <tr>\n",
       "      <th>1</th>\n",
       "      <td>1</td>\n",
       "      <td>1</td>\n",
       "    </tr>\n",
       "    <tr>\n",
       "      <th>2</th>\n",
       "      <td>2</td>\n",
       "      <td>4</td>\n",
       "    </tr>\n",
       "    <tr>\n",
       "      <th>3</th>\n",
       "      <td>3</td>\n",
       "      <td>1</td>\n",
       "    </tr>\n",
       "    <tr>\n",
       "      <th>4</th>\n",
       "      <td>4</td>\n",
       "      <td>6</td>\n",
       "    </tr>\n",
       "  </tbody>\n",
       "</table>\n",
       "</div>"
      ],
      "text/plain": [
       "   id  pred\n",
       "0   0     6\n",
       "1   1     1\n",
       "2   2     4\n",
       "3   3     1\n",
       "4   4     6"
      ]
     },
     "execution_count": 18,
     "metadata": {},
     "output_type": "execute_result"
    }
   ],
   "source": [
    "pred_df = pd.DataFrame({'id': id_list, 'pred': pred_list})\n",
    "pred_df.head()"
   ]
  },
  {
   "cell_type": "code",
   "execution_count": 19,
   "id": "e16bbfee",
   "metadata": {},
   "outputs": [],
   "source": [
    "with open('./submit_sample.txt', 'w') as f_out:\n",
    "    f_out.write('id, pred\\n')\n",
    "    for i in id_list:\n",
    "        f_out.write(str(i)+ ', '+ str(pred_list[i]) +'\\n')"
   ]
  },
  {
   "cell_type": "code",
   "execution_count": null,
   "id": "0f7c46c6",
   "metadata": {},
   "outputs": [],
   "source": []
  }
 ],
 "metadata": {
  "kernelspec": {
   "display_name": "Python 3 (ipykernel)",
   "language": "python",
   "name": "python3"
  },
  "language_info": {
   "codemirror_mode": {
    "name": "ipython",
    "version": 3
   },
   "file_extension": ".py",
   "mimetype": "text/x-python",
   "name": "python",
   "nbconvert_exporter": "python",
   "pygments_lexer": "ipython3",
   "version": "3.9.7"
  }
 },
 "nbformat": 4,
 "nbformat_minor": 5
}
